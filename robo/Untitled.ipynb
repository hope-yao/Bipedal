{
 "cells": [
  {
   "cell_type": "code",
   "execution_count": 32,
   "metadata": {
    "collapsed": false
   },
   "outputs": [],
   "source": [
    "import numpy as np\n",
    "x = np.loadtxt('pareto.txt',delimiter=', ')\n",
    "a = x[:,7]\n",
    "b = x[:,8]\n",
    "\n",
    "import matplotlib.pyplot as plt\n",
    "\n",
    "\n",
    "\n",
    "# ax.set_xlabel('value of first objective funtion')\n",
    "# ax.set_ylabel('value of second objective funtion')\n",
    "\n",
    "\n",
    "fig, ax = plt.subplots()\n",
    "ax.plot(1/a, b,'.')\n",
    "ax.grid(True)\n",
    "plt.show()\n"
   ]
  },
  {
   "cell_type": "code",
   "execution_count": 3,
   "metadata": {
    "collapsed": false
   },
   "outputs": [
    {
     "name": "stdout",
     "output_type": "stream",
     "text": [
      "Once deleted, variables cannot be recovered. Proceed (y/[n])? y\n"
     ]
    }
   ],
   "source": [
    "%reset\n",
    "import numpy\n",
    "import matplotlib.pyplot as plt\n",
    "import matplotlib.animation as animation\n",
    "\n",
    "npdata = numpy.random.randint(100, size=(5,6,10))\n",
    "plotlays, plotcols = [2,5], [\"black\",\"red\"]\n",
    "\n",
    "fig = plt.figure()\n",
    "ax = plt.axes(xlim=(0, numpy.shape(npdata)[0]), ylim=(0, numpy.max(npdata)))\n",
    "timetext = ax.text(0.5,50,'')\n",
    "\n",
    "lines = []\n",
    "for index,lay in enumerate(plotlays):\n",
    "    lobj = ax.plot([],[],lw=2,color=plotcols[index])[0]\n",
    "    lines.append(lobj)\n",
    "\n",
    "def init():\n",
    "    for line in lines:\n",
    "        line.set_data([],[])\n",
    "    return lines\n",
    "\n",
    "def animate(i):\n",
    "    timetext.set_text(i)\n",
    "    x = numpy.array(range(1,npdata.shape[0]+1))\n",
    "    for lnum,line in enumerate(lines):\n",
    "        line.set_data(x,npdata[:,plotlays[lnum]-1,i])\n",
    "    return tuple(lines) + (timetext,)\n",
    "\n",
    "anim = animation.FuncAnimation(fig, animate, init_func=init,\n",
    "                               frames=numpy.shape(npdata)[1], interval=100, blit=True)\n",
    "\n",
    "plt.show()"
   ]
  }
 ],
 "metadata": {
  "kernelspec": {
   "display_name": "Python 3",
   "language": "python",
   "name": "python3"
  }
 },
 "nbformat": 4,
 "nbformat_minor": 0
}
